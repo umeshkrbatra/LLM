{
 "cells": [
  {
   "cell_type": "code",
   "execution_count": 1,
   "id": "3a6c7681-c4da-4109-ac81-9c78fe6e02a9",
   "metadata": {},
   "outputs": [],
   "source": [
    "# imports\n",
    "\n",
    "import os\n",
    "import requests\n",
    "from dotenv import load_dotenv\n",
    "from bs4 import BeautifulSoup\n",
    "from IPython.display import Markdown, display\n",
    "from openai import OpenAI\n",
    "\n",
    "# If you get an error running this cell, then please head over to the troubleshooting notebook!"
   ]
  },
  {
   "cell_type": "code",
   "execution_count": 2,
   "id": "cf1368a6-938e-4884-893e-f428e1c54a9d",
   "metadata": {},
   "outputs": [
    {
     "name": "stdout",
     "output_type": "stream",
     "text": [
      "API key found and looks good so far!\n"
     ]
    }
   ],
   "source": [
    "# Load environment variables in a file called .env\n",
    "load_dotenv(override=True)\n",
    "api_key = os.getenv('OPENAI_API_KEY')\n",
    "\n",
    "# Check the key\n",
    "\n",
    "if not api_key:\n",
    "    print(\"No API key was found - please head over to the troubleshooting notebook in this folder to identify & fix!\")\n",
    "elif not api_key.startswith(\"sk-proj-\"):\n",
    "    print(\"An API key was found, but it doesn't start sk-proj-; please check you're using the right key - see troubleshooting notebook\")\n",
    "elif api_key.strip() != api_key:\n",
    "    print(\"An API key was found, but it looks like it might have space or tab characters at the start or end - please remove them - see troubleshooting notebook\")\n",
    "else:\n",
    "    print(\"API key found and looks good so far!\")\n"
   ]
  },
  {
   "cell_type": "code",
   "execution_count": 3,
   "id": "f929ded8-176c-4d52-a90c-1e1bdfe0582d",
   "metadata": {},
   "outputs": [],
   "source": [
    "#Make the connection with an open ai\n",
    "openai = OpenAI()"
   ]
  },
  {
   "cell_type": "code",
   "execution_count": 4,
   "id": "1c279e0c-9198-4bda-b165-e55c09564909",
   "metadata": {},
   "outputs": [
    {
     "name": "stdout",
     "output_type": "stream",
     "text": [
      "Hello! Welcome! I'm glad you're here. How can I assist you today?\n"
     ]
    }
   ],
   "source": [
    "# call to a frontier model i.e. OpenAI \n",
    "\n",
    "message = \"Hello, GPT! This is my first ever message to you! Hi!\"\n",
    "response = openai.chat.completions.create(model=\"gpt-4o-mini\", messages=[{\"role\":\"user\", \"content\":message}])\n",
    "print(response.choices[0].message.content)"
   ]
  },
  {
   "cell_type": "code",
   "execution_count": 6,
   "id": "aa0affae-ee35-4192-bf16-70da69575bf4",
   "metadata": {},
   "outputs": [],
   "source": [
    "# Here we look the website and share the website which going to scrape.\n",
    "headers = {\n",
    " \"User-Agent\": \"Mozilla/5.0 (Windows NT 10.0; Win64; x64) AppleWebKit/537.36 (KHTML, like Gecko) Chrome/117.0.0.0 Safari/537.36\"\n",
    "}\n",
    "\n",
    "class Website:\n",
    "\n",
    "    def __init__(self, url):\n",
    "        \"\"\"\n",
    "        Create this Website object from the given url using the BeautifulSoup library\n",
    "        \"\"\"\n",
    "        self.url = url\n",
    "        response = requests.get(url, headers=headers)\n",
    "        #BeautifulSoup is a package which is used to parsing wabpages\n",
    "        soup = BeautifulSoup(response.content, 'html.parser')\n",
    "        #Fetch the title from the webpage, remove the images or style contents and store the text contents \n",
    "        self.title = soup.title.string if soup.title else \"No title found\"\n",
    "        for irrelevant in soup.body([\"script\", \"style\", \"img\", \"input\"]):\n",
    "            irrelevant.decompose()\n",
    "        self.text = soup.body.get_text(separator=\"\\n\", strip=True)"
   ]
  },
  {
   "cell_type": "code",
   "execution_count": 8,
   "id": "7677756c-30c4-43b1-8011-52714f73f0cf",
   "metadata": {},
   "outputs": [
    {
     "name": "stdout",
     "output_type": "stream",
     "text": [
      "Framonde - The French Classes\n",
      "Our Approach\n",
      "Courses\n",
      "Team\n",
      "Contact\n",
      "                            us\n",
      "+91\n",
      "                        9910138144\n",
      "Learn French with\n",
      "FraMonde\n",
      "FraMonde (means French World) is a French Language\n",
      "                        Institute,\n",
      "                        established in 2023 at Noida with intention of\n",
      "                        opening\n",
      "                        doors\n",
      "                        to a new world of opportunities, from connecting\n",
      "                        with\n",
      "                        French\n",
      "                        speakers worldwide to exploring the culture of\n",
      "                        France\n",
      "                        and\n",
      "                        other French-speaking countries.\n",
      "ONLINE 1 to 1 CLASSES & GROUP CLASSES\n",
      "established in 2023 at Noida\n",
      "We are offering high quality\n",
      "French\n",
      "                        language\n",
      "courses at affordable prices to the\n",
      "                    people\n",
      "                    around the\n",
      "                    globe. We are very passionate about helping you achieve\n",
      "                    fluency and confidence in the beautiful\n",
      "                    French language.\n",
      "Whether you're a beginner with no prior knowledge or an\n",
      "                    intermediate learner\n",
      "                    seeking to take your skills to the next level, our\n",
      "                    personalized coaching approach will guide you on\n",
      "                    a journey to master French.\n",
      "Our Approach\n",
      "Our French Coaching Program is\n",
      "                    designed to cater to learners of all levels, from\n",
      "                    absolute beginners\n",
      "                    to advanced speakers. We understand that every\n",
      "                    individual has unique learning styles and objectives,\n",
      "                    taking that in our mind we have designed our program to\n",
      "                    suit your specific needs.\n",
      "We take classes in Online Mode only!\n",
      "Learning Language in online mode allows students\n",
      "                            to access information and\n",
      "                            resources anytime, anywhere to maintain the\n",
      "                            continuity of sessions.\n",
      "It is\n",
      "                            important to keep in mind that you can take the\n",
      "                            classes wherever you go. If\n",
      "                            you decide to go on vacation or move to a new\n",
      "                            city, then there\n",
      "                            is no need for you to change your institute, you\n",
      "                            can continue your French\n",
      "                            classes with us no matter wherever you are.\n",
      "Our Courses\n",
      "We have made quality our habit. It’s not something\n",
      "                            that we just strive for – we live by this principle\n",
      "                            every day.\n",
      "TUITION FOR SCHOOL STUDENTS\n",
      "Welcome to our exciting and enriching French\n",
      "                            language classes designed for school students.\n",
      "                            Our classes are meticulously crafted to make the\n",
      "                            journey of learning French enjoyable,\n",
      "                            interactive, and educational. For school\n",
      "                            students, we impart knowledge as per the school\n",
      "                            curriculum.\n",
      "DELF EXAM PREPARATION / UNIVERSITY TEST\n",
      "This course is specially designed to cater to\n",
      "                            students who are interested in specializing in\n",
      "                            French language, literature and culture.\n",
      "FRENCH FOR WORKING PROFESSIONALS\n",
      "Our French classes for professionals are designed\n",
      "                            for those who need to learn or improve their\n",
      "                            French as part of their job.\n",
      "OUR TEAM\n",
      "FraMonde Institute is a vision of\n",
      "                        our young and dynamic founder Ms Joshita Batra, who\n",
      "                        is passionate about teaching French Language.\n",
      "She has done M.A. Degree in French\n",
      "                        in year 2012 from one of most prestigious university\n",
      "                        Jawaharlal Nehru University in New Delhi, India. She\n",
      "                        been teaching French for 10 years now, both in\n",
      "                        traditional classroom settings and online platforms.\n",
      "                        In past she has taught in prestigious school like\n",
      "                        Salwan Public School, Gurgaon and Bal Bharti Public\n",
      "                        School, Noida.\n",
      "Her passion for teaching comes\n",
      "                        from witnessing the transformative power of\n",
      "                        education in the lives of my students.\n",
      "FIND US\n",
      "Registered Office\n",
      "Email :\n",
      "contact@framonde.com\n",
      "Address :\n",
      "Ajnara LeGarden ,\n",
      "                            Greater Noida-West , U.P. , India\n",
      "Branch Center\n",
      "Email :\n",
      "framondeindia@gmail.com\n",
      "Address :\n",
      "ATS Happy Trails ,\n",
      "                            Greater Noida-West , U.P. , India\n",
      "GET IN TOUCH\n",
      "Our friendly team would love to hear from you.\n",
      "Name\n",
      "Please enter your full name.\n",
      "Contact\n",
      "Invalid contact number. Please enter a 10-digit number.\n",
      "Email\n",
      "Message\n",
      "Send Message\n",
      "Our\n",
      "                            Approach\n",
      "Courses\n",
      "Team\n",
      "Contact\n",
      "                            us\n",
      "© Copyright 2024, All Rights Reserved\n"
     ]
    }
   ],
   "source": [
    "ed = Website(\"https://framonde.com\")\n",
    "print(ed.title)\n",
    "print(ed.text)"
   ]
  },
  {
   "cell_type": "code",
   "execution_count": null,
   "id": "dfef0d18-bf0f-434f-b089-06289fd4c345",
   "metadata": {},
   "outputs": [],
   "source": [
    "## Types of prompts\n",
    "\n",
    "Models like GPT4o have been trained to receive instructions in a particular way.\n",
    "\n",
    "They expect to receive:\n",
    "\n",
    "**A system prompt** that tells them what task they are performing and what tone they should use\n",
    "\n",
    "**A user prompt** -- the conversation starter that they should reply to"
   ]
  },
  {
   "cell_type": "code",
   "execution_count": 20,
   "id": "dded5fcc-3fa5-4d59-af9d-63afae3c79a4",
   "metadata": {},
   "outputs": [],
   "source": [
    "# Define our system prompt\n",
    "\n",
    "system_prompt = \"You are an assistant that analyzes the contents of a website \\\n",
    "and provides a short summary, ignoring text that might be navigation related. \\\n",
    "Respond in markdown.\""
   ]
  },
  {
   "cell_type": "code",
   "execution_count": 10,
   "id": "cb1251bf-ad59-4a6e-bd20-dc732b8db052",
   "metadata": {},
   "outputs": [],
   "source": [
    "# A function that writes a User Prompt that asks for summaries of websites:\n",
    "\n",
    "def user_prompt_for(website):\n",
    "    user_prompt = f\"You are looking at a website titled {website.title}\"\n",
    "    user_prompt += \"\\nThe contents of this website is as follows; \\\n",
    "please provide a short summary of this website in markdown. \\\n",
    "If it includes news or announcements, then summarize these too.\\n\\n\"\n",
    "    user_prompt += website.text\n",
    "    return user_prompt"
   ]
  },
  {
   "cell_type": "code",
   "execution_count": 11,
   "id": "a3437248-ff5c-4798-af1d-502d5b05b258",
   "metadata": {},
   "outputs": [
    {
     "name": "stdout",
     "output_type": "stream",
     "text": [
      "You are looking at a website titled Framonde - The French Classes\n",
      "The contents of this website is as follows; please provide a short summary of this website in markdown. If it includes news or announcements, then summarize these too.\n",
      "\n",
      "Our Approach\n",
      "Courses\n",
      "Team\n",
      "Contact\n",
      "                            us\n",
      "+91\n",
      "                        9910138144\n",
      "Learn French with\n",
      "FraMonde\n",
      "FraMonde (means French World) is a French Language\n",
      "                        Institute,\n",
      "                        established in 2023 at Noida with intention of\n",
      "                        opening\n",
      "                        doors\n",
      "                        to a new world of opportunities, from connecting\n",
      "                        with\n",
      "                        French\n",
      "                        speakers worldwide to exploring the culture of\n",
      "                        France\n",
      "                        and\n",
      "                        other French-speaking countries.\n",
      "ONLINE 1 to 1 CLASSES & GROUP CLASSES\n",
      "established in 2023 at Noida\n",
      "We are offering high quality\n",
      "French\n",
      "                        language\n",
      "courses at affordable prices to the\n",
      "                    people\n",
      "                    around the\n",
      "                    globe. We are very passionate about helping you achieve\n",
      "                    fluency and confidence in the beautiful\n",
      "                    French language.\n",
      "Whether you're a beginner with no prior knowledge or an\n",
      "                    intermediate learner\n",
      "                    seeking to take your skills to the next level, our\n",
      "                    personalized coaching approach will guide you on\n",
      "                    a journey to master French.\n",
      "Our Approach\n",
      "Our French Coaching Program is\n",
      "                    designed to cater to learners of all levels, from\n",
      "                    absolute beginners\n",
      "                    to advanced speakers. We understand that every\n",
      "                    individual has unique learning styles and objectives,\n",
      "                    taking that in our mind we have designed our program to\n",
      "                    suit your specific needs.\n",
      "We take classes in Online Mode only!\n",
      "Learning Language in online mode allows students\n",
      "                            to access information and\n",
      "                            resources anytime, anywhere to maintain the\n",
      "                            continuity of sessions.\n",
      "It is\n",
      "                            important to keep in mind that you can take the\n",
      "                            classes wherever you go. If\n",
      "                            you decide to go on vacation or move to a new\n",
      "                            city, then there\n",
      "                            is no need for you to change your institute, you\n",
      "                            can continue your French\n",
      "                            classes with us no matter wherever you are.\n",
      "Our Courses\n",
      "We have made quality our habit. It’s not something\n",
      "                            that we just strive for – we live by this principle\n",
      "                            every day.\n",
      "TUITION FOR SCHOOL STUDENTS\n",
      "Welcome to our exciting and enriching French\n",
      "                            language classes designed for school students.\n",
      "                            Our classes are meticulously crafted to make the\n",
      "                            journey of learning French enjoyable,\n",
      "                            interactive, and educational. For school\n",
      "                            students, we impart knowledge as per the school\n",
      "                            curriculum.\n",
      "DELF EXAM PREPARATION / UNIVERSITY TEST\n",
      "This course is specially designed to cater to\n",
      "                            students who are interested in specializing in\n",
      "                            French language, literature and culture.\n",
      "FRENCH FOR WORKING PROFESSIONALS\n",
      "Our French classes for professionals are designed\n",
      "                            for those who need to learn or improve their\n",
      "                            French as part of their job.\n",
      "OUR TEAM\n",
      "FraMonde Institute is a vision of\n",
      "                        our young and dynamic founder Ms Joshita Batra, who\n",
      "                        is passionate about teaching French Language.\n",
      "She has done M.A. Degree in French\n",
      "                        in year 2012 from one of most prestigious university\n",
      "                        Jawaharlal Nehru University in New Delhi, India. She\n",
      "                        been teaching French for 10 years now, both in\n",
      "                        traditional classroom settings and online platforms.\n",
      "                        In past she has taught in prestigious school like\n",
      "                        Salwan Public School, Gurgaon and Bal Bharti Public\n",
      "                        School, Noida.\n",
      "Her passion for teaching comes\n",
      "                        from witnessing the transformative power of\n",
      "                        education in the lives of my students.\n",
      "FIND US\n",
      "Registered Office\n",
      "Email :\n",
      "contact@framonde.com\n",
      "Address :\n",
      "Ajnara LeGarden ,\n",
      "                            Greater Noida-West , U.P. , India\n",
      "Branch Center\n",
      "Email :\n",
      "framondeindia@gmail.com\n",
      "Address :\n",
      "ATS Happy Trails ,\n",
      "                            Greater Noida-West , U.P. , India\n",
      "GET IN TOUCH\n",
      "Our friendly team would love to hear from you.\n",
      "Name\n",
      "Please enter your full name.\n",
      "Contact\n",
      "Invalid contact number. Please enter a 10-digit number.\n",
      "Email\n",
      "Message\n",
      "Send Message\n",
      "Our\n",
      "                            Approach\n",
      "Courses\n",
      "Team\n",
      "Contact\n",
      "                            us\n",
      "© Copyright 2024, All Rights Reserved\n"
     ]
    }
   ],
   "source": [
    "print(user_prompt_for(ed))"
   ]
  },
  {
   "cell_type": "code",
   "execution_count": null,
   "id": "1e384386-fb3c-46a9-8e92-36ea08510760",
   "metadata": {},
   "outputs": [],
   "source": [
    "## Messages\n",
    "\n",
    "The API from OpenAI expects to receive messages in a particular structure.\n",
    "Many of the other APIs share this structure:\n",
    "\n",
    "[\n",
    "    {\"role\": \"system\", \"content\": \"system message goes here\"},\n",
    "    {\"role\": \"user\", \"content\": \"user message goes here\"}\n",
    "]\n"
   ]
  },
  {
   "cell_type": "code",
   "execution_count": 12,
   "id": "64dc40a5-192a-4821-9017-0de80e6083cb",
   "metadata": {},
   "outputs": [],
   "source": [
    "messages = [\n",
    "    {\"role\": \"system\", \"content\": \"You are a snarky assistant\"},\n",
    "    {\"role\": \"user\", \"content\": \"What is 2 + 2?\"}\n",
    "]"
   ]
  },
  {
   "cell_type": "code",
   "execution_count": 17,
   "id": "91f8bd44-84fe-4752-8c3c-ff76b226b2a0",
   "metadata": {},
   "outputs": [
    {
     "name": "stdout",
     "output_type": "stream",
     "text": [
      "Oh, you must be a math wizard! The answer is 4. But don't worry, I won't tell anyone your secret!\n"
     ]
    }
   ],
   "source": [
    "response = openai.chat.completions.create(model=\"gpt-4o-mini\", messages=messages)\n",
    "print(response.choices[0].message.content)"
   ]
  },
  {
   "cell_type": "code",
   "execution_count": 21,
   "id": "370696d4-d80d-48ee-b0c1-c9164da31987",
   "metadata": {},
   "outputs": [],
   "source": [
    "def messages_for(website):\n",
    "    return [\n",
    "        {\"role\": \"system\", \"content\": system_prompt},\n",
    "        {\"role\": \"user\", \"content\": user_prompt_for(website)}\n",
    "    ]"
   ]
  },
  {
   "cell_type": "code",
   "execution_count": 22,
   "id": "c44405b8-1ae6-4620-b21d-76aeb46a75bf",
   "metadata": {},
   "outputs": [
    {
     "data": {
      "text/plain": [
       "[{'role': 'system',\n",
       "  'content': 'You are an assistant that analyzes the contents of a website and provides a short summary, ignoring text that might be navigation related. Respond in markdown.'},\n",
       " {'role': 'user',\n",
       "  'content': \"You are looking at a website titled Framonde - The French Classes\\nThe contents of this website is as follows; please provide a short summary of this website in markdown. If it includes news or announcements, then summarize these too.\\n\\nOur Approach\\nCourses\\nTeam\\nContact\\r\\n                            us\\n+91\\r\\n                        9910138144\\nLearn French with\\nFraMonde\\nFraMonde (means French World) is a French Language\\r\\n                        Institute,\\r\\n                        established in 2023 at Noida with intention of\\r\\n                        opening\\r\\n                        doors\\r\\n                        to a new world of opportunities, from connecting\\r\\n                        with\\r\\n                        French\\r\\n                        speakers worldwide to exploring the culture of\\r\\n                        France\\r\\n                        and\\r\\n                        other French-speaking countries.\\nONLINE 1 to 1 CLASSES & GROUP CLASSES\\nestablished in 2023 at Noida\\nWe are offering high quality\\nFrench\\r\\n                        language\\ncourses at affordable prices to the\\r\\n                    people\\r\\n                    around the\\r\\n                    globe. We are very passionate about helping you achieve\\r\\n                    fluency and confidence in the beautiful\\r\\n                    French language.\\nWhether you're a beginner with no prior knowledge or an\\r\\n                    intermediate learner\\r\\n                    seeking to take your skills to the next level, our\\r\\n                    personalized coaching approach will guide you on\\r\\n                    a journey to master French.\\nOur Approach\\nOur French Coaching Program is\\r\\n                    designed to cater to learners of all levels, from\\r\\n                    absolute beginners\\r\\n                    to advanced speakers. We understand that every\\r\\n                    individual has unique learning styles and objectives,\\r\\n                    taking that in our mind we have designed our program to\\r\\n                    suit your specific needs.\\nWe take classes in Online Mode only!\\nLearning Language in online mode allows students\\r\\n                            to access information and\\r\\n                            resources anytime, anywhere to maintain the\\r\\n                            continuity of sessions.\\nIt is\\r\\n                            important to keep in mind that you can take the\\r\\n                            classes wherever you go. If\\r\\n                            you decide to go on vacation or move to a new\\r\\n                            city, then there\\r\\n                            is no need for you to change your institute, you\\r\\n                            can continue your French\\r\\n                            classes with us no matter wherever you are.\\nOur Courses\\nWe have made quality our habit. It’s not something\\r\\n                            that we just strive for – we live by this principle\\r\\n                            every day.\\nTUITION FOR SCHOOL STUDENTS\\nWelcome to our exciting and enriching French\\r\\n                            language classes designed for school students.\\r\\n                            Our classes are meticulously crafted to make the\\r\\n                            journey of learning French enjoyable,\\r\\n                            interactive, and educational. For school\\r\\n                            students, we impart knowledge as per the school\\r\\n                            curriculum.\\nDELF EXAM PREPARATION / UNIVERSITY TEST\\nThis course is specially designed to cater to\\r\\n                            students who are interested in specializing in\\r\\n                            French language, literature and culture.\\nFRENCH FOR WORKING PROFESSIONALS\\nOur French classes for professionals are designed\\r\\n                            for those who need to learn or improve their\\r\\n                            French as part of their job.\\nOUR TEAM\\nFraMonde Institute is a vision of\\r\\n                        our young and dynamic founder Ms Joshita Batra, who\\r\\n                        is passionate about teaching French Language.\\nShe has done M.A. Degree in French\\r\\n                        in year 2012 from one of most prestigious university\\r\\n                        Jawaharlal Nehru University in New Delhi, India. She\\r\\n                        been teaching French for 10 years now, both in\\r\\n                        traditional classroom settings and online platforms.\\r\\n                        In past she has taught in prestigious school like\\r\\n                        Salwan Public School, Gurgaon and Bal Bharti Public\\r\\n                        School, Noida.\\nHer passion for teaching comes\\r\\n                        from witnessing the transformative power of\\r\\n                        education in the lives of my students.\\nFIND US\\nRegistered Office\\nEmail :\\ncontact@framonde.com\\nAddress :\\nAjnara LeGarden ,\\r\\n                            Greater Noida-West , U.P. , India\\nBranch Center\\nEmail :\\nframondeindia@gmail.com\\nAddress :\\nATS Happy Trails ,\\r\\n                            Greater Noida-West , U.P. , India\\nGET IN TOUCH\\nOur friendly team would love to hear from you.\\nName\\nPlease enter your full name.\\nContact\\nInvalid contact number. Please enter a 10-digit number.\\nEmail\\nMessage\\nSend Message\\nOur\\r\\n                            Approach\\nCourses\\nTeam\\nContact\\r\\n                            us\\n© Copyright 2024, All Rights Reserved\"}]"
      ]
     },
     "execution_count": 22,
     "metadata": {},
     "output_type": "execute_result"
    }
   ],
   "source": [
    "messages_for(ed)"
   ]
  },
  {
   "cell_type": "code",
   "execution_count": 23,
   "id": "d0998a6d-b7f2-45cf-bcfd-8c1200dd2295",
   "metadata": {},
   "outputs": [],
   "source": [
    "# call the OpenAI API.\n",
    "\n",
    "def summarize(url):\n",
    "    website = Website(url)\n",
    "    response = openai.chat.completions.create(\n",
    "        model = \"gpt-4o-mini\",\n",
    "        messages = messages_for(website)\n",
    "    )\n",
    "    return response.choices[0].message.content"
   ]
  },
  {
   "cell_type": "code",
   "execution_count": 24,
   "id": "1c458755-9321-41f8-b5a5-fd4436e80ee5",
   "metadata": {},
   "outputs": [
    {
     "data": {
      "text/plain": [
       "'# Framonde - The French Classes\\n\\nFramonde, meaning \"French World,\" is a language institute founded in 2023 in Noida, dedicated to teaching French. The institute offers **online 1-to-1 and group classes** accessible globally, allowing students to learn at their convenience without geographical limitations. \\n\\n## Courses Offered\\nFramonde provides a variety of **French language courses** tailored for different audiences:\\n- **Tuition for School Students**: Engaging classes aligned with school curricula.\\n- **DELF Exam Preparation/University Test**: Specialized programs for students aiming to pursue studies in French language, literature, and culture.\\n- **French for Working Professionals**: Courses designed for professionals seeking to enhance their French proficiency for work.\\n\\n## Our Approach\\nThe coaching program is personalized, catering to learners of all levels from beginners to advanced speakers. The institute emphasizes quality learning and adapts to individual learning styles and goals.\\n\\n## Team\\nThe institute is founded by **Ms. Joshita Batra**, who holds an M.A. in French from Jawaharlal Nehru University and has a decade\\'s worth of teaching experience in both classroom and online environments.\\n\\n## Contact Information\\nFor inquiries, the institute can be reached via email at \\n- contact@framonde.com \\n- framondeindia@gmail.com\\n\\n**Registered Office**: Ajnara LeGarden, Greater Noida-West, U.P., India\\n\\nThis summary captures the essence of Framonde, showcasing their offerings, teaching philosophy, and key personnel.'"
      ]
     },
     "execution_count": 24,
     "metadata": {},
     "output_type": "execute_result"
    }
   ],
   "source": [
    "summarize(\"https://framonde.com\")"
   ]
  },
  {
   "cell_type": "code",
   "execution_count": 25,
   "id": "d73bc238-7183-42cd-8a2d-95eb83179610",
   "metadata": {},
   "outputs": [],
   "source": [
    "def display_summary(url):\n",
    "    summary = summarize(url)\n",
    "    display(Markdown(summary))"
   ]
  },
  {
   "cell_type": "code",
   "execution_count": 27,
   "id": "bc71036d-da1c-4b9e-8508-23822e87a806",
   "metadata": {},
   "outputs": [
    {
     "data": {
      "text/markdown": [
       "# Framonde - The French Classes\n",
       "\n",
       "**Overview**  \n",
       "FraMonde, meaning \"French World,\" is a French language institute established in 2023 in Noida. The institute aims to provide high-quality French language education, opening doors to new opportunities and cultural exploration for learners worldwide. \n",
       "\n",
       "**Courses Offered**  \n",
       "- **General French Classes**: Catering to all levels from beginners to advanced speakers with a personalized coaching approach.\n",
       "- **Tuition for School Students**: Classes designed to align with school curriculums, making learning interactive and enjoyable.\n",
       "- **DELF Exam Preparation**: Focused courses for students aspiring to specialize in French language, literature, and culture.\n",
       "- **French for Working Professionals**: Tailored classes for professionals looking to enhance their French language skills as part of their job requirements.\n",
       "\n",
       "**Learning Format**  \n",
       "All classes are conducted online, allowing flexibility for students to learn from anywhere. This is beneficial for those who might relocate or travel.\n",
       "\n",
       "**About the Team**  \n",
       "The institute is led by Ms. Joshita Batra, a passionate educator with an M.A. in French and 10 years of teaching experience in both traditional and online settings.\n",
       "\n",
       "**Contact Information**  \n",
       "Interested individuals can reach out via email or visit their registered office in Greater Noida-West.\n",
       "\n",
       "This summary captures the core offerings and mission of Framonde, along with details about their team and learning approach. No news or announcements were noted."
      ],
      "text/plain": [
       "<IPython.core.display.Markdown object>"
      ]
     },
     "metadata": {},
     "output_type": "display_data"
    }
   ],
   "source": [
    "display_summary(\"https://framonde.com\")"
   ]
  },
  {
   "cell_type": "code",
   "execution_count": null,
   "id": "cd16c06e-a0f9-466d-bc8e-9c3b92f10eb9",
   "metadata": {},
   "outputs": [],
   "source": []
  }
 ],
 "metadata": {
  "kernelspec": {
   "display_name": "Python 3 (ipykernel)",
   "language": "python",
   "name": "python3"
  },
  "language_info": {
   "codemirror_mode": {
    "name": "ipython",
    "version": 3
   },
   "file_extension": ".py",
   "mimetype": "text/x-python",
   "name": "python",
   "nbconvert_exporter": "python",
   "pygments_lexer": "ipython3",
   "version": "3.11.11"
  }
 },
 "nbformat": 4,
 "nbformat_minor": 5
}
