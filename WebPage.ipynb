{
 "cells": [
  {
   "cell_type": "code",
   "execution_count": 22,
   "id": "3a6c7681-c4da-4109-ac81-9c78fe6e02a9",
   "metadata": {},
   "outputs": [],
   "source": [
    "# imports\n",
    "\n",
    "import os\n",
    "import requests\n",
    "from dotenv import load_dotenv\n",
    "from bs4 import BeautifulSoup\n",
    "from IPython.display import Markdown, display\n",
    "from openai import OpenAI\n",
    "\n",
    "# If you get an error running this cell, then please head over to the troubleshooting notebook!"
   ]
  },
  {
   "cell_type": "code",
   "execution_count": 23,
   "id": "cf1368a6-938e-4884-893e-f428e1c54a9d",
   "metadata": {},
   "outputs": [
    {
     "name": "stdout",
     "output_type": "stream",
     "text": [
      "API key looks good so far\n"
     ]
    }
   ],
   "source": [
    "# Load environment variables in a file called .env\n",
    "load_dotenv(override=True)\n",
    "api_key = os.getenv('OPENAI_API_KEY')\n",
    "\n",
    "# Check the key\n",
    "\n",
    "load_dotenv(override=True)\n",
    "api_key = os.getenv('OPENAI_API_KEY')\n",
    "\n",
    "if api_key and api_key.startswith('sk-proj-') and len(api_key)>10:\n",
    "    print(\"API key looks good so far\")\n",
    "else:\n",
    "    print(\"There might be a problem with your API key\")\n",
    "    \n",
    "MODEL = 'gpt-4o-mini'\n",
    "openai = OpenAI()\n"
   ]
  },
  {
   "cell_type": "code",
   "execution_count": 24,
   "id": "1c279e0c-9198-4bda-b165-e55c09564909",
   "metadata": {},
   "outputs": [
    {
     "name": "stdout",
     "output_type": "stream",
     "text": [
      "Hello! It’s great to hear from you! Welcome! How can I assist you today?\n"
     ]
    }
   ],
   "source": [
    "# call to a frontier model i.e. OpenAI \n",
    "\n",
    "message = \"Hello, GPT! This is my first ever message to you! Hi!\"\n",
    "response = openai.chat.completions.create(model=\"gpt-4o-mini\", messages=[{\"role\":\"user\", \"content\":message}])\n",
    "print(response.choices[0].message.content)"
   ]
  },
  {
   "cell_type": "code",
   "execution_count": 25,
   "id": "aa0affae-ee35-4192-bf16-70da69575bf4",
   "metadata": {},
   "outputs": [],
   "source": [
    "headers = {\n",
    " \"User-Agent\": \"Mozilla/5.0 (Windows NT 10.0; Win64; x64) AppleWebKit/537.36 (KHTML, like Gecko) Chrome/117.0.0.0 Safari/537.36\"\n",
    "}\n",
    "\n",
    "class Website:\n",
    "    \"\"\"\n",
    "    A utility class to represent a Website that we have scraped, now with links\n",
    "    \"\"\"\n",
    "\n",
    "    def __init__(self, url):\n",
    "        self.url = url\n",
    "        response = requests.get(url, headers=headers)\n",
    "        self.body = response.content\n",
    "        #BeautifulSoup is a package which is used to parsing wabpages\n",
    "        soup = BeautifulSoup(self.body, 'html.parser')\n",
    "        #Fetch the title from the webpage, remove the images or style contents and store the text contents \n",
    "        self.title = soup.title.string if soup.title else \"No title found\"\n",
    "        if soup.body:\n",
    "            for irrelevant in soup.body([\"script\", \"style\", \"img\", \"input\"]):\n",
    "                irrelevant.decompose()\n",
    "            self.text = soup.body.get_text(separator=\"\\n\", strip=True)\n",
    "        else:\n",
    "            self.text = \"\"\n",
    "        links = [link.get('href') for link in soup.find_all('a')]\n",
    "        self.links = [link for link in links if link]\n",
    "\n",
    "    def get_contents(self):\n",
    "        return f\"Webpage Title:\\n{self.title}\\nWebpage Contents:\\n{self.text}\\n\\n\""
   ]
  },
  {
   "cell_type": "code",
   "execution_count": 26,
   "id": "7677756c-30c4-43b1-8011-52714f73f0cf",
   "metadata": {},
   "outputs": [
    {
     "data": {
      "text/plain": [
       "['#approach-us',\n",
       " '#our-courses',\n",
       " '#our-team',\n",
       " '#find-us',\n",
       " 'https://wa.me/919910138144',\n",
       " 'tel:+919910138144',\n",
       " '#approach-us',\n",
       " '#our-courses',\n",
       " '#our-team',\n",
       " '#find-us',\n",
       " 'https://in.linkedin.com/in/framonde-india-a5413028a',\n",
       " 'https://www.facebook.com/share/2TZCjfcbGvowV8XD/',\n",
       " 'https://www.instagram.com/invites/contact/?igsh=nrun8qrffhhg&utm_content=sc3y156',\n",
       " '#banner-content']"
      ]
     },
     "execution_count": 26,
     "metadata": {},
     "output_type": "execute_result"
    }
   ],
   "source": [
    "ed = Website(\"https://framonde.com\")\n",
    "#print(ed.title)\n",
    "#print(ed.text)\n",
    "ed.links"
   ]
  },
  {
   "cell_type": "code",
   "execution_count": 27,
   "id": "dfef0d18-bf0f-434f-b089-06289fd4c345",
   "metadata": {},
   "outputs": [
    {
     "ename": "SyntaxError",
     "evalue": "invalid syntax (1703708753.py, line 3)",
     "output_type": "error",
     "traceback": [
      "\u001b[1;36m  Cell \u001b[1;32mIn[27], line 3\u001b[1;36m\u001b[0m\n\u001b[1;33m    Models like GPT4o have been trained to receive instructions in a particular way.\u001b[0m\n\u001b[1;37m           ^\u001b[0m\n\u001b[1;31mSyntaxError\u001b[0m\u001b[1;31m:\u001b[0m invalid syntax\n"
     ]
    }
   ],
   "source": [
    "## Types of prompts\n",
    "\n",
    "Models like GPT4o have been trained to receive instructions in a particular way.\n",
    "\n",
    "They expect to receive:\n",
    "\n",
    "**A system prompt** that tells them what task they are performing and what tone they should use\n",
    "\n",
    "**A user prompt** -- the conversation starter that they should reply to"
   ]
  },
  {
   "cell_type": "code",
   "execution_count": null,
   "id": "dded5fcc-3fa5-4d59-af9d-63afae3c79a4",
   "metadata": {},
   "outputs": [],
   "source": [
    "# Define our system prompt\n",
    "\n",
    "system_prompt = \"You are an assistant that analyzes the contents of a website \\\n",
    "and provides a short summary, ignoring text that might be navigation related. \\\n",
    "Respond in markdown.\""
   ]
  },
  {
   "cell_type": "code",
   "execution_count": null,
   "id": "cb1251bf-ad59-4a6e-bd20-dc732b8db052",
   "metadata": {},
   "outputs": [],
   "source": [
    "# A function that writes a User Prompt that asks for summaries of websites:\n",
    "\n",
    "def user_prompt_for(website):\n",
    "    user_prompt = f\"You are looking at a website titled {website.title}\"\n",
    "    user_prompt += \"\\nThe contents of this website is as follows; \\\n",
    "please provide a short summary of this website in markdown. \\\n",
    "If it includes news or announcements, then summarize these too.\\n\\n\"\n",
    "    user_prompt += website.text\n",
    "    return user_prompt"
   ]
  },
  {
   "cell_type": "code",
   "execution_count": null,
   "id": "a3437248-ff5c-4798-af1d-502d5b05b258",
   "metadata": {},
   "outputs": [],
   "source": [
    "print(user_prompt_for(ed))"
   ]
  },
  {
   "cell_type": "code",
   "execution_count": 28,
   "id": "64dc40a5-192a-4821-9017-0de80e6083cb",
   "metadata": {},
   "outputs": [],
   "source": [
    "messages = [\n",
    "    {\"role\": \"system\", \"content\": \"You are a snarky assistant\"},\n",
    "    {\"role\": \"user\", \"content\": \"What is 2 + 2?\"}\n",
    "]"
   ]
  },
  {
   "cell_type": "code",
   "execution_count": 29,
   "id": "91f8bd44-84fe-4752-8c3c-ff76b226b2a0",
   "metadata": {},
   "outputs": [
    {
     "name": "stdout",
     "output_type": "stream",
     "text": [
      "Oh, only the most challenging math problem ever! Drumroll, please... It's 4. Shocking, I know!\n"
     ]
    }
   ],
   "source": [
    "response = openai.chat.completions.create(model=\"gpt-4o-mini\", messages=messages)\n",
    "print(response.choices[0].message.content)"
   ]
  },
  {
   "cell_type": "code",
   "execution_count": 30,
   "id": "370696d4-d80d-48ee-b0c1-c9164da31987",
   "metadata": {},
   "outputs": [],
   "source": [
    "def messages_for(website):\n",
    "    return [\n",
    "        {\"role\": \"system\", \"content\": system_prompt},\n",
    "        {\"role\": \"user\", \"content\": user_prompt_for(website)}\n",
    "    ]"
   ]
  },
  {
   "cell_type": "code",
   "execution_count": 31,
   "id": "c44405b8-1ae6-4620-b21d-76aeb46a75bf",
   "metadata": {},
   "outputs": [
    {
     "data": {
      "text/plain": [
       "[{'role': 'system',\n",
       "  'content': 'You are an assistant that analyzes the contents of a website and provides a short summary, ignoring text that might be navigation related. Respond in markdown.'},\n",
       " {'role': 'user',\n",
       "  'content': \"You are looking at a website titled Framonde - The French Classes\\nThe contents of this website is as follows; please provide a short summary of this website in markdown. If it includes news or announcements, then summarize these too.\\n\\nOur Approach\\nCourses\\nTeam\\nContact\\r\\n                            us\\n+91\\r\\n                        9910138144\\nLearn French with\\nFraMonde\\nFraMonde (means French World) is a French Language\\r\\n                        Institute,\\r\\n                        established in 2023 at Noida with intention of\\r\\n                        opening\\r\\n                        doors\\r\\n                        to a new world of opportunities, from connecting\\r\\n                        with\\r\\n                        French\\r\\n                        speakers worldwide to exploring the culture of\\r\\n                        France\\r\\n                        and\\r\\n                        other French-speaking countries.\\nONLINE 1 to 1 CLASSES & GROUP CLASSES\\nestablished in 2023 at Noida\\nWe are offering high quality\\nFrench\\r\\n                        language\\ncourses at affordable prices to the\\r\\n                    people\\r\\n                    around the\\r\\n                    globe. We are very passionate about helping you achieve\\r\\n                    fluency and confidence in the beautiful\\r\\n                    French language.\\nWhether you're a beginner with no prior knowledge or an\\r\\n                    intermediate learner\\r\\n                    seeking to take your skills to the next level, our\\r\\n                    personalized coaching approach will guide you on\\r\\n                    a journey to master French.\\nOur Approach\\nOur French Coaching Program is\\r\\n                    designed to cater to learners of all levels, from\\r\\n                    absolute beginners\\r\\n                    to advanced speakers. We understand that every\\r\\n                    individual has unique learning styles and objectives,\\r\\n                    taking that in our mind we have designed our program to\\r\\n                    suit your specific needs.\\nWe take classes in Online Mode only!\\nLearning Language in online mode allows students\\r\\n                            to access information and\\r\\n                            resources anytime, anywhere to maintain the\\r\\n                            continuity of sessions.\\nIt is\\r\\n                            important to keep in mind that you can take the\\r\\n                            classes wherever you go. If\\r\\n                            you decide to go on vacation or move to a new\\r\\n                            city, then there\\r\\n                            is no need for you to change your institute, you\\r\\n                            can continue your French\\r\\n                            classes with us no matter wherever you are.\\nOur Courses\\nWe have made quality our habit. It’s not something\\r\\n                            that we just strive for – we live by this principle\\r\\n                            every day.\\nTUITION FOR SCHOOL STUDENTS\\nWelcome to our exciting and enriching French\\r\\n                            language classes designed for school students.\\r\\n                            Our classes are meticulously crafted to make the\\r\\n                            journey of learning French enjoyable,\\r\\n                            interactive, and educational. For school\\r\\n                            students, we impart knowledge as per the school\\r\\n                            curriculum.\\nDELF EXAM PREPARATION / UNIVERSITY TEST\\nThis course is specially designed to cater to\\r\\n                            students who are interested in specializing in\\r\\n                            French language, literature and culture.\\nFRENCH FOR WORKING PROFESSIONALS\\nOur French classes for professionals are designed\\r\\n                            for those who need to learn or improve their\\r\\n                            French as part of their job.\\nOUR TEAM\\nFraMonde Institute is a vision of\\r\\n                        our young and dynamic founder Ms Joshita Batra, who\\r\\n                        is passionate about teaching French Language.\\nShe has done M.A. Degree in French\\r\\n                        in year 2012 from one of most prestigious university\\r\\n                        Jawaharlal Nehru University in New Delhi, India. She\\r\\n                        been teaching French for 10 years now, both in\\r\\n                        traditional classroom settings and online platforms.\\r\\n                        In past she has taught in prestigious school like\\r\\n                        Salwan Public School, Gurgaon and Bal Bharti Public\\r\\n                        School, Noida.\\nHer passion for teaching comes\\r\\n                        from witnessing the transformative power of\\r\\n                        education in the lives of my students.\\nFIND US\\nRegistered Office\\nEmail :\\ncontact@framonde.com\\nAddress :\\nAjnara LeGarden ,\\r\\n                            Greater Noida-West , U.P. , India\\nBranch Center\\nEmail :\\nframondeindia@gmail.com\\nAddress :\\nATS Happy Trails ,\\r\\n                            Greater Noida-West , U.P. , India\\nGET IN TOUCH\\nOur friendly team would love to hear from you.\\nName\\nPlease enter your full name.\\nContact\\nInvalid contact number. Please enter a 10-digit number.\\nEmail\\nMessage\\nSend Message\\nOur\\r\\n                            Approach\\nCourses\\nTeam\\nContact\\r\\n                            us\\n© Copyright 2024, All Rights Reserved\"}]"
      ]
     },
     "execution_count": 31,
     "metadata": {},
     "output_type": "execute_result"
    }
   ],
   "source": [
    "messages_for(ed)"
   ]
  },
  {
   "cell_type": "code",
   "execution_count": 32,
   "id": "d0998a6d-b7f2-45cf-bcfd-8c1200dd2295",
   "metadata": {},
   "outputs": [],
   "source": [
    "# call the OpenAI API.\n",
    "\n",
    "def summarize(url):\n",
    "    website = Website(url)\n",
    "    response = openai.chat.completions.create(\n",
    "        model = \"gpt-4o-mini\",\n",
    "        messages = messages_for(website)\n",
    "    )\n",
    "    return response.choices[0].message.content"
   ]
  },
  {
   "cell_type": "code",
   "execution_count": 33,
   "id": "1c458755-9321-41f8-b5a5-fd4436e80ee5",
   "metadata": {},
   "outputs": [
    {
     "data": {
      "text/plain": [
       "\"# Framonde - The French Classes Overview\\n\\nFraMonde, established in 2023 in Noida, is a dedicated French Language Institute aimed at providing quality French education to learners around the globe. The institution's mission is to open up opportunities for individuals to connect with French speakers and immerse themselves in the rich culture of France and other French-speaking countries.\\n\\n## Key Features\\n- **Online Classes**: FraMonde offers both 1-to-1 and group classes exclusively online, allowing for flexible learning regardless of location. \\n- **Diverse Course Offerings**:\\n  - **Tuition for School Students**: Tailored classes focusing on the school curriculum.\\n  - **DELF Exam Preparation**: Specialized course for students aiming to delve into French language and culture.\\n  - **French for Working Professionals**: Courses designed for professionals looking to enhance their French skills for job relevance.\\n\\n## Teaching Approach\\nFraMonde emphasizes personalized coaching for all levels, from absolute beginners to advanced speakers, ensuring that the program meets the unique needs and objectives of each learner.\\n\\n## Founder\\nThe institute is founded by Ms. Joshita Batra, who holds an M.A. in French and has a decade of teaching experience in various educational settings, both in schools and online. Her commitment to education aims to empower students through language learning.\\n\\n## Contact Information\\n- **Registered Office**: Greater Noida-West, U.P., India\\n- **Branch Center**: ATS Happy Trails, Greater Noida-West, U.P., India\\n- **Emails**: contact@framonde.com / framondeindia@gmail.com\\n\\nFraMonde embodies a passion for French language education, providing learners with the tools to achieve fluency and confidence.\""
      ]
     },
     "execution_count": 33,
     "metadata": {},
     "output_type": "execute_result"
    }
   ],
   "source": [
    "summarize(\"https://framonde.com\")"
   ]
  },
  {
   "cell_type": "code",
   "execution_count": 34,
   "id": "d73bc238-7183-42cd-8a2d-95eb83179610",
   "metadata": {},
   "outputs": [],
   "source": [
    "def display_summary(url):\n",
    "    summary = summarize(url)\n",
    "    display(Markdown(summary))"
   ]
  },
  {
   "cell_type": "code",
   "execution_count": 35,
   "id": "bc71036d-da1c-4b9e-8508-23822e87a806",
   "metadata": {},
   "outputs": [
    {
     "data": {
      "text/markdown": [
       "# Framonde - The French Classes\n",
       "\n",
       "FraMonde is a French Language Institute established in 2023 in Noida, India. The institute aims to provide opportunities for individuals to connect with French speakers globally and explore the culture of France and other Francophone countries.\n",
       "\n",
       "## Offerings\n",
       "FraMonde offers a variety of French language courses designed for different proficiency levels, including:\n",
       "\n",
       "- **Online 1 to 1 Classes & Group Classes**: Accessible anytime, anywhere, supporting students in maintaining continuity in their learning.\n",
       "- **Tuition for School Students**: Classes tailored to school curricula, making learning enjoyable and interactive.\n",
       "- **DELF Exam Preparation / University Test**: Specialized courses for students focusing on French language, literature, and culture.\n",
       "- **French for Working Professionals**: Courses aimed at improving French skills relevant to professional settings.\n",
       "\n",
       "## Approach\n",
       "The coaching programs at FraMonde are personalized to meet the unique learning styles and objectives of each student, whether they are beginners or advanced learners.\n",
       "\n",
       "## Team\n",
       "The institute is led by Ms. Joshita Batra, who holds an M.A. in French from Jawaharlal Nehru University and has over a decade of teaching experience in both traditional and online formats. \n",
       "\n",
       "FraMonde is committed to quality education and passionate about helping students achieve fluency and confidence in French."
      ],
      "text/plain": [
       "<IPython.core.display.Markdown object>"
      ]
     },
     "metadata": {},
     "output_type": "display_data"
    }
   ],
   "source": [
    "display_summary(\"https://framonde.com\")"
   ]
  },
  {
   "cell_type": "code",
   "execution_count": null,
   "id": "b6d21468-3e20-40a6-8161-5b19374a53cf",
   "metadata": {},
   "outputs": [],
   "source": [
    "-------------------------------------------------------------------------------------------------"
   ]
  },
  {
   "cell_type": "code",
   "execution_count": 36,
   "id": "cd16c06e-a0f9-466d-bc8e-9c3b92f10eb9",
   "metadata": {},
   "outputs": [],
   "source": [
    "link_system_prompt = \"You are provided with a list of links found on a webpage. \\\n",
    "You are able to decide which of the links would be most relevant to include in a brochure about the company, \\\n",
    "such as links to an About page, or a Company page, or Careers/Jobs pages.\\n\"\n",
    "link_system_prompt += \"You should respond in JSON as in this example:\"\n",
    "link_system_prompt += \"\"\"\n",
    "{\n",
    "    \"links\": [\n",
    "        {\"type\": \"about page\", \"url\": \"https://full.url/goes/here/about\"},\n",
    "        {\"type\": \"careers page\": \"url\": \"https://another.full.url/careers\"}\n",
    "    ]\n",
    "}\n",
    "\"\"\""
   ]
  },
  {
   "cell_type": "code",
   "execution_count": 38,
   "id": "83d8d9d8-9df8-495b-800d-a4741df39195",
   "metadata": {},
   "outputs": [
    {
     "name": "stdout",
     "output_type": "stream",
     "text": [
      "You are provided with a list of links found on a webpage. You are able to decide which of the links would be most relevant to include in a brochure about the company, such as links to an About page, or a Company page, or Careers/Jobs pages.\n",
      "You should respond in JSON as in this example:\n",
      "{\n",
      "    \"links\": [\n",
      "        {\"type\": \"about page\", \"url\": \"https://full.url/goes/here/about\"},\n",
      "        {\"type\": \"careers page\": \"url\": \"https://another.full.url/careers\"}\n",
      "    ]\n",
      "}\n",
      "\n"
     ]
    }
   ],
   "source": [
    "print(link_system_prompt)"
   ]
  },
  {
   "cell_type": "code",
   "execution_count": 39,
   "id": "4254c31f-6d6b-4422-9d8b-4dc8ac90e70b",
   "metadata": {},
   "outputs": [],
   "source": [
    "def get_links_user_prompt(website):\n",
    "    user_prompt = f\"Here is the list of links on the website of {website.url} - \"\n",
    "    user_prompt += \"please decide which of these are relevant web links for a brochure about the company, respond with the full https URL in JSON format. \\\n",
    "Do not include Terms of Service, Privacy, email links.\\n\"\n",
    "    user_prompt += \"Links (some might be relative links):\\n\"\n",
    "    user_prompt += \"\\n\".join(website.links)\n",
    "    return user_prompt"
   ]
  },
  {
   "cell_type": "code",
   "execution_count": 40,
   "id": "da4ba5ce-1a5e-40d1-9662-b3efd6e0dbee",
   "metadata": {},
   "outputs": [
    {
     "name": "stdout",
     "output_type": "stream",
     "text": [
      "Here is the list of links on the website of https://framonde.com - please decide which of these are relevant web links for a brochure about the company, respond with the full https URL in JSON format. Do not include Terms of Service, Privacy, email links.\n",
      "Links (some might be relative links):\n",
      "#approach-us\n",
      "#our-courses\n",
      "#our-team\n",
      "#find-us\n",
      "https://wa.me/919910138144\n",
      "tel:+919910138144\n",
      "#approach-us\n",
      "#our-courses\n",
      "#our-team\n",
      "#find-us\n",
      "https://in.linkedin.com/in/framonde-india-a5413028a\n",
      "https://www.facebook.com/share/2TZCjfcbGvowV8XD/\n",
      "https://www.instagram.com/invites/contact/?igsh=nrun8qrffhhg&utm_content=sc3y156\n",
      "#banner-content\n"
     ]
    }
   ],
   "source": [
    "print(get_links_user_prompt(ed))"
   ]
  },
  {
   "cell_type": "code",
   "execution_count": 43,
   "id": "3f765b9b-c0a0-4b89-b895-7100f1f2cfe8",
   "metadata": {},
   "outputs": [],
   "source": [
    "def get_links(url):\n",
    "    website = Website(url)\n",
    "    response = openai.chat.completions.create(\n",
    "        model=MODEL,\n",
    "        messages=[\n",
    "            {\"role\": \"system\", \"content\": link_system_prompt},\n",
    "            {\"role\": \"user\", \"content\": get_links_user_prompt(website)}\n",
    "      ],\n",
    "        response_format={\"type\": \"json_object\"}\n",
    "    )\n",
    "    result = response.choices[0].message.content\n",
    "    return json.loads(result)"
   ]
  },
  {
   "cell_type": "code",
   "execution_count": 44,
   "id": "6f46a9b0-371a-4b55-8c01-83ad97309fcc",
   "metadata": {},
   "outputs": [
    {
     "data": {
      "text/plain": [
       "['#approach-us',\n",
       " '#our-courses',\n",
       " '#our-team',\n",
       " '#find-us',\n",
       " 'https://wa.me/919910138144',\n",
       " 'tel:+919910138144',\n",
       " '#approach-us',\n",
       " '#our-courses',\n",
       " '#our-team',\n",
       " '#find-us',\n",
       " 'https://in.linkedin.com/in/framonde-india-a5413028a',\n",
       " 'https://www.facebook.com/share/2TZCjfcbGvowV8XD/',\n",
       " 'https://www.instagram.com/invites/contact/?igsh=nrun8qrffhhg&utm_content=sc3y156',\n",
       " '#banner-content']"
      ]
     },
     "execution_count": 44,
     "metadata": {},
     "output_type": "execute_result"
    }
   ],
   "source": [
    "framonde = Website(\"https://framonde.com\")\n",
    "framonde.links"
   ]
  },
  {
   "cell_type": "code",
   "execution_count": 46,
   "id": "9651ddc7-f74b-4390-88c4-42cba133595e",
   "metadata": {},
   "outputs": [
    {
     "data": {
      "text/plain": [
       "{'links': [{'type': 'our team page', 'url': 'https://framonde.com#our-team'},\n",
       "  {'type': 'our courses page', 'url': 'https://framonde.com#our-courses'},\n",
       "  {'type': 'approach us page', 'url': 'https://framonde.com#approach-us'},\n",
       "  {'type': 'find us page', 'url': 'https://framonde.com#find-us'}]}"
      ]
     },
     "execution_count": 46,
     "metadata": {},
     "output_type": "execute_result"
    }
   ],
   "source": [
    "get_links(\"https://framonde.com\")"
   ]
  },
  {
   "cell_type": "code",
   "execution_count": null,
   "id": "17952d1a-9608-4fb3-a0c5-39c3cef744a0",
   "metadata": {},
   "outputs": [],
   "source": []
  },
  {
   "cell_type": "code",
   "execution_count": null,
   "id": "d34c61f2-4ebb-4247-9adb-a049518b9b5d",
   "metadata": {},
   "outputs": [],
   "source": []
  }
 ],
 "metadata": {
  "kernelspec": {
   "display_name": "Python 3 (ipykernel)",
   "language": "python",
   "name": "python3"
  },
  "language_info": {
   "codemirror_mode": {
    "name": "ipython",
    "version": 3
   },
   "file_extension": ".py",
   "mimetype": "text/x-python",
   "name": "python",
   "nbconvert_exporter": "python",
   "pygments_lexer": "ipython3",
   "version": "3.11.11"
  }
 },
 "nbformat": 4,
 "nbformat_minor": 5
}
